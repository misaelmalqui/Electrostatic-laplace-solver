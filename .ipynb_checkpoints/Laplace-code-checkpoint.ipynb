{
 "cells": [
  {
   "cell_type": "code",
   "execution_count": null,
   "id": "9dcd83d7",
   "metadata": {},
   "outputs": [],
   "source": [
    "import Laplace_preamble as lp\n",
    "import matplotlib.pyplot as plt\n",
    "import numpy as np"
   ]
  },
  {
   "cell_type": "markdown",
   "id": "b6df2aa9",
   "metadata": {},
   "source": [
    "## With no boundary conditions\n",
    "---\n",
    "**Two filled circles**"
   ]
  },
  {
   "cell_type": "code",
   "execution_count": null,
   "id": "cd30e47f",
   "metadata": {},
   "outputs": [],
   "source": [
    "xmin = -14; xmax = 14\n",
    "ymin = -10; ymax = 10\n",
    "lim = [xmin, xmax, ymin, ymax]\n",
    "arrow_hwidth = 0.2; arrow_hlength = 0.4\n",
    "\n",
    "g = lp.Grid(xmin, xmax, ymin, ymax, prec=0.1)\n",
    "charges = [lp.FullCircle(-5, 0, 0.4, 0.8, 5, n=12), \n",
    "           lp.FullCircle(5, 0, 0.4, 0.8, -5, n=12)]\n",
    "\n",
    "V = lp.Vfield(charges, g.x1, g.y1, 0)\n",
    "lp.iteration(V.matrix, V.matrix_bool, iterations=100000)"
   ]
  },
  {
   "cell_type": "code",
   "execution_count": null,
   "id": "33095e31",
   "metadata": {
    "scrolled": false
   },
   "outputs": [],
   "source": [
    "plt.figure(figsize=(8.5, 5), dpi=300)\n",
    "lp.autoplot(charges, g.x1, g.y1, g.x2, g.y2, V.matrix)\n",
    "\n",
    "E = lp.Efield(V.matrix, g.xaxis1, g.yaxis1, \n",
    "              arrow_hwidth, arrow_hlength, charges)\n",
    "E.lines(lim)\n",
    "\n",
    "#plt.savefig('Gallery/Two-filled-circles.png', bbox_inches='tight', dpi=300)\n",
    "plt.close()"
   ]
  },
  {
   "cell_type": "markdown",
   "id": "1a9352d0",
   "metadata": {},
   "source": [
    "**Three filled circles**"
   ]
  },
  {
   "cell_type": "code",
   "execution_count": null,
   "id": "a988740c",
   "metadata": {},
   "outputs": [],
   "source": [
    "xmin = -14; xmax = 14\n",
    "ymin = -10; ymax = 10\n",
    "lim = [xmin, xmax, ymin, ymax]\n",
    "arrow_hwidth = 0.2; arrow_hlength = 0.4\n",
    "\n",
    "g = lp.Grid(xmin, xmax, ymin, ymax, prec=0.1)\n",
    "charges = [lp.FullCircle(-6, 0, 0.4, 0.8, 5, n=12), \n",
    "           lp.FullCircle(1, 0, 0.4, 0.8, -5),\n",
    "           lp.FullCircle(8, 0, 0.4, 0.8, 0, n=4)]\n",
    "\n",
    "V = lp.Vfield(charges, g.x1, g.y1, 0)\n",
    "lp.iteration(V.matrix, V.matrix_bool, iterations=100000)"
   ]
  },
  {
   "cell_type": "code",
   "execution_count": null,
   "id": "fe620f6e",
   "metadata": {
    "scrolled": false
   },
   "outputs": [],
   "source": [
    "plt.figure(figsize=(8.5, 5), dpi=300)\n",
    "lp.autoplot(charges, g.x1, g.y1, g.x2, g.y2, V.matrix)\n",
    "\n",
    "E = lp.Efield(V.matrix, g.xaxis1, g.yaxis1, \n",
    "              arrow_hwidth, arrow_hlength, charges)\n",
    "#lim[0] = lim[0] + 0.0003\n",
    "for i in [0, 2]:\n",
    "    E.line(charges[i].surf, lim, charges[i].sign)\n",
    "\n",
    "#plt.savefig('Gallery/Three-filled-circles.png', bbox_inches='tight', dpi=300)\n",
    "plt.close()"
   ]
  },
  {
   "cell_type": "markdown",
   "id": "00e83193",
   "metadata": {},
   "source": [
    "**Rectangle**"
   ]
  },
  {
   "cell_type": "code",
   "execution_count": null,
   "id": "f78f5ad1",
   "metadata": {},
   "outputs": [],
   "source": [
    "xmin = -14; xmax = 14\n",
    "ymin = -10; ymax = 10\n",
    "lim = [xmin, xmax, ymin, ymax]\n",
    "arrow_hwidth = 0.2; arrow_hlength = 0.4\n",
    "\n",
    "g = lp.Grid(xmin, xmax, ymin, ymax, prec=0.1)\n",
    "charges = [lp.Rectangle(-5, 0, 0.4, 10, 0.4, 0, 5, 1, 5),\n",
    "           lp.Rectangle(5, 0, 0.4, 10, 0.4, 0, -5, 1, 5)]\n",
    "\n",
    "V = lp.Vfield(charges, g.x1, g.y1, 0)\n",
    "lp.iteration(V.matrix, V.matrix_bool, iterations=100000)"
   ]
  },
  {
   "cell_type": "code",
   "execution_count": null,
   "id": "baae7737",
   "metadata": {
    "scrolled": false
   },
   "outputs": [],
   "source": [
    "plt.figure(figsize=(8.5, 5), dpi=300)\n",
    "lp.autoplot(charges, g.x1, g.y1, g.x2, g.y2, V.matrix)\n",
    "\n",
    "E = lp.Efield(V.matrix, g.xaxis1, g.yaxis1, \n",
    "              arrow_hwidth, arrow_hlength, charges)\n",
    "E.lines(lim)\n",
    "\n",
    "# plt.savefig('Gallery/Two-par-lines.png', bbox_inches='tight', dpi=300)\n",
    "plt.close()"
   ]
  },
  {
   "cell_type": "markdown",
   "id": "ed7257ea",
   "metadata": {},
   "source": [
    "**Two rectangles and one filled circle**"
   ]
  },
  {
   "cell_type": "code",
   "execution_count": null,
   "id": "4a38c843",
   "metadata": {},
   "outputs": [],
   "source": [
    "xmin = -14; xmax = 14\n",
    "ymin = -10; ymax = 10\n",
    "lim = [xmin, xmax, ymin, ymax]\n",
    "arrow_hwidth = 0.2; arrow_hlength = 0.4\n",
    "\n",
    "g = lp.Grid(xmin, xmax, ymin, ymax, prec=0.1)\n",
    "charges = [lp.Rectangle(-7, 0, 0.4, 10, 0.4, 0, 5, 1, 5),\n",
    "           lp.Rectangle(7, 0, 0.4, 10, 0.4, 0, 5, 1, 5),\n",
    "           lp.FullCircle(0, 0, 0.4, 0.8, -5)]\n",
    "\n",
    "V = lp.Vfield(charges, g.x1, g.y1, 0)\n",
    "lp.iteration(V.matrix, V.matrix_bool, iterations=100000)"
   ]
  },
  {
   "cell_type": "code",
   "execution_count": null,
   "id": "ece3cca4",
   "metadata": {},
   "outputs": [],
   "source": [
    "plt.figure(figsize=(8.5, 5), dpi=300)\n",
    "lp.autoplot(charges, g.x1, g.y1, g.x2, g.y2, V.matrix)\n",
    "\n",
    "E = lp.Efield(V.matrix, g.xaxis1, g.yaxis1, \n",
    "              arrow_hwidth, arrow_hlength, charges)\n",
    "for i in [0, 1]:\n",
    "    E.line(charges[i].surf, lim, charges[i].sign)\n",
    "\n",
    "# plt.savefig('Gallery/Two-lines-one-filled-particle.png', bbox_inches='tight', dpi=300)\n",
    "plt.close()"
   ]
  },
  {
   "cell_type": "markdown",
   "id": "471bb02b",
   "metadata": {},
   "source": [
    "**Two diamonds and one square**"
   ]
  },
  {
   "cell_type": "code",
   "execution_count": null,
   "id": "7448751a",
   "metadata": {},
   "outputs": [],
   "source": [
    "xmin = -14; xmax = 14\n",
    "ymin = -10; ymax = 10\n",
    "lim = [xmin, xmax, ymin, ymax]\n",
    "arrow_hwidth = 0.2; arrow_hlength = 0.4\n",
    "\n",
    "g = lp.Grid(xmin, xmax, ymin, ymax, prec=0.1)\n",
    "charges = [lp.Rectangle(-8, 0, 2, 2, 0.4, np.pi/4, -5, 4, 2),\n",
    "           lp.Rectangle(8, 0, 2, 2, 0.4, np.pi/4, -5, 4, 2),\n",
    "           lp.Rectangle(0, 0, 5, 5, 0.4, 0, 5, 4, 2)]\n",
    "\n",
    "V = lp.Vfield(charges, g.x1, g.y1, 0)\n",
    "lp.iteration(V.matrix, V.matrix_bool, iterations=100000)"
   ]
  },
  {
   "cell_type": "code",
   "execution_count": null,
   "id": "ed204a83",
   "metadata": {},
   "outputs": [],
   "source": [
    "plt.figure(figsize=(8.5, 5), dpi=300)\n",
    "lp.autoplot(charges, g.x1, g.y1, g.x2, g.y2, V.matrix)\n",
    "\n",
    "E = lp.Efield(V.matrix, g.xaxis1, g.yaxis1, \n",
    "              arrow_hwidth, arrow_hlength, charges)\n",
    "for i in [0, 1]:\n",
    "    E.line(charges[i].surf, lim, charges[i].sign)\n",
    "ss = [[0, 0 + 2.5 + 0.4], [0, 0 - 2.5 -0.4]]\n",
    "E.line(ss, lim, charges[2].sign)\n",
    "\n",
    "# plt.savefig('Gallery/Two-diamonds-one-square.png', bbox_inches='tight', dpi=300)\n",
    "plt.close()"
   ]
  },
  {
   "cell_type": "markdown",
   "id": "c37f7f16",
   "metadata": {},
   "source": [
    "---\n",
    "## With boundary conditions\n",
    "---\n",
    "**Empty**"
   ]
  },
  {
   "cell_type": "code",
   "execution_count": null,
   "id": "9729c0a1",
   "metadata": {},
   "outputs": [],
   "source": [
    "xmin = -14; xmax = 14\n",
    "ymin = -10; ymax = 10\n",
    "lim = [xmin, xmax, ymin, ymax]\n",
    "arrow_hwidth = 0.2; arrow_hlength = 0.4\n",
    "\n",
    "g = lp.Grid(xmin, xmax, ymin, ymax, 0.1)\n",
    "charges = []\n",
    "e1 = np.linspace(-1, 1, 200)\n",
    "e2 = np.linspace(-1, 1, 280)\n",
    "\n",
    "b = e2**4\n",
    "t = np.cos(np.pi*e2/2)\n",
    "l = 0.5*(e1**2 - e1)\n",
    "r = 1/(np.e**-1 - np.e)*(np.exp(e1)-np.e)\n",
    "\n",
    "V = lp.Vfield(charges, g.x1, g.y1, 0)\n",
    "lp.setbound(V.matrix, V.matrix_bool, t, b, l, r)\n",
    "lp.iteration(V.matrix, V.matrix_bool, iterations=10000)"
   ]
  },
  {
   "cell_type": "code",
   "execution_count": null,
   "id": "2086be6d",
   "metadata": {
    "scrolled": false
   },
   "outputs": [],
   "source": [
    "plt.figure(figsize=(8.5, 5), dpi=300)\n",
    "lp.autoplot(charges, g.x1, g.y1, g.x2, g.y2, V.matrix)\n",
    "\n",
    "E = lp.Efield(V.matrix, g.xaxis1, g.yaxis1, \n",
    "              arrow_hwidth, arrow_hlength, charges)\n",
    "\n",
    "ss = [[-13, 0], [-11, 1], [-10, 5], [-8, -6],\n",
    "      [-5, 0], [-1, 0], [3, 0], [6, 0],\n",
    "      [7, 6], [8, -2], [11, -6]]\n",
    "\n",
    "E.line(ss, lim, 1)\n",
    "\n",
    "# plt.savefig('Gallery/Empty-BC.png', bbox_inches='tight', dpi=300)\n",
    "plt.close()"
   ]
  },
  {
   "cell_type": "markdown",
   "id": "538298f2",
   "metadata": {},
   "source": [
    "**Two filled circles**"
   ]
  },
  {
   "cell_type": "code",
   "execution_count": null,
   "id": "a9e30e1c",
   "metadata": {},
   "outputs": [],
   "source": [
    "xmin = -14; xmax = 14\n",
    "ymin = -10; ymax = 10\n",
    "lim = [xmin, xmax, ymin, ymax]\n",
    "arrow_hwidth = 0.2; arrow_hlength = 0.4\n",
    "\n",
    "g = lp.Grid(xmin, xmax, ymin, ymax, 0.1)\n",
    "charges = [lp.FullCircle(-5, 0, 0.4, 0.8, 1, n=12), \n",
    "           lp.FullCircle(5, 0, 0.4, 0.8, -1, n=12)]\n",
    "e1 = np.linspace(-1, 1, 200)\n",
    "e2 = np.linspace(-1, 1, 280)\n",
    "\n",
    "b = e2**4\n",
    "t = np.cos(np.pi*e2/2)\n",
    "l = 0.5*(e1**2 - e1)\n",
    "r = 1/(np.e**-1 - np.e)*(np.exp(e1)-np.e)\n",
    "\n",
    "V = lp.Vfield(charges, g.x1, g.y1, 0)\n",
    "lp.setbound(V.matrix, V.matrix_bool, t, b, l, r)\n",
    "lp.iteration(V.matrix, V.matrix_bool, iterations=10000)"
   ]
  },
  {
   "cell_type": "code",
   "execution_count": null,
   "id": "465c6375",
   "metadata": {
    "scrolled": false
   },
   "outputs": [],
   "source": [
    "plt.figure(figsize=(8.5, 5), dpi=300)\n",
    "lp.autoplot(charges, g.x1, g.y1, g.x2, g.y2, V.matrix)\n",
    "\n",
    "E = lp.Efield(V.matrix, g.xaxis1, g.yaxis1, \n",
    "              arrow_hwidth, arrow_hlength, charges)\n",
    "\n",
    "aa = np.linspace(0, 2*np.pi*(12 - 1)/12, 12)\n",
    "ss = [[5 + 0.8*np.cos(alpha), 0 + 0.8*np.sin(alpha)] for alpha in aa]\n",
    "del ss[6:9]\n",
    "ss2 = [[-10, -7.5], [-5, 8.5], [10, 7.5], [5, -8.5]]\n",
    "\n",
    "E.line(charges[0].surf, lim, 1)\n",
    "E.line(ss, lim, -1)\n",
    "E.line(ss2, lim, 1)\n",
    "\n",
    "# plt.savefig('Gallery/Two-filled-circles-BC.png', bbox_inches='tight', dpi=300)\n",
    "plt.close()"
   ]
  }
 ],
 "metadata": {
  "kernelspec": {
   "display_name": "Python 3 (ipykernel)",
   "language": "python",
   "name": "python3"
  },
  "language_info": {
   "codemirror_mode": {
    "name": "ipython",
    "version": 3
   },
   "file_extension": ".py",
   "mimetype": "text/x-python",
   "name": "python",
   "nbconvert_exporter": "python",
   "pygments_lexer": "ipython3",
   "version": "3.9.7"
  }
 },
 "nbformat": 4,
 "nbformat_minor": 5
}
